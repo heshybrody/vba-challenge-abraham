{
 "cells": [
  {
   "cell_type": "code",
   "execution_count": null,
   "id": "2dc7b4c4",
   "metadata": {},
   "outputs": [],
   "source": [
    "Sub stocks()For Each ws In Worksheetsws.Cells(1, 9).Value = \"Ticker\"ws.Cells(1, 10).Value = \"Yearly Change\"ws.Cells(1, 11).Value = \"Percent Change\"ws.Cells(1, 12).Value = \"Total Stock Volume\"Dim Summary_Table_Row As IntegerSummary_Table_Row = 2LastRow = ws.Cells(Rows.Count, 1).End(xlUp).RowDim open_row As Longopen_row = 2Total = 0For i = 2 To LastRowIf ws.Cells(i + 1, 1).Value <> ws.Cells(i, 1).Value Then'TickerDim Ticker As StringTicker = ws.Cells(i, 1).Valuews.Range(\"I\" & Summary_Table_Row).Value = Ticker'Yearly ChangeDim open_price As Doubleopen_price = ws.Cells(open_row, 3).Valueopen_row = i + 1Dim close_price As Doubleclose_price = ws.Cells(i, 6).ValueDim Yearly_Change As DoubleYearly_Change = close_price - open_pricews.Range(\"J\" & Summary_Table_Row).Value = Yearly_Change'Percent ChangeDim Percent_Change As DoublePercent_Change = (Yearly_Change / open_price)ws.Range(\"K\" & Summary_Table_Row).Value = Percent_Changews.Range(\"K\" & Summary_Table_Row).Style = \"Percent\"ws.Range(\"K\" & Summary_Table_Row).NumberFormat = \"0.00%\"'Total Stock VolumeTotal = Total + ws.Range(\"G\" & i).Valuews.Range(\"L\" & Summary_Table_Row).Value = TotalTotal = 0Summary_Table_Row = Summary_Table_Row + 1ElseTotal = Total + ws.Range(\"G\" & i).ValueEnd IfNext i'Conditional FormattingLastRow_table = ws.Cells(Rows.Count, \"I\").End(xlUp).RowFor a = 2 To LastRow_tableIf ws.Range(\"J\" & a).Value >= 0 Thenws.Range(\"J\" & a).Interior.ColorIndex = 4ElseIf ws.Range(\"J\" & a).Value < 0 Thenws.Range(\"J\" & a).Interior.ColorIndex = 3ElseEnd IfNext a'Greatest Increase, Decrease, and Total Volumews.Cells(2, 15).Value = \"Greatest % Increase\"ws.Cells(3, 15).Value = \"Greatest % Decrease\"ws.Cells(4, 15).Value = \"Greatest Total Volume\"ws.Cells(1, 16).Value = \"Ticker\"ws.Cells(1, 17).Value = \"Value\"Greatest_Inc = 0Greatest_Dec = 0Greatest_Vol = 0For j = 2 To LastRow_tableIf ws.Cells(j + 1, 11).Value > Greatest_Inc ThenGreatest_Inc = ws.Cells(j + 1, 11).Valuews.Cells(2, 17).Value = Greatest_Incws.Cells(2, 16).Value = ws.Cells(j + 1, 9).Valuews.Cells(2, 17).Style = \"Percent\"ws.Cells(2, 17).NumberFormat = \"0.00%\"ElseIf ws.Cells(j + 1, 11).Value < Greatest_Dec ThenGreatest_Dec = ws.Cells(j + 1, 11).Valuews.Cells(3, 17).Value = Greatest_Decws.Cells(3, 16).Value = ws.Cells(j + 1, 9).Valuews.Cells(3, 17).Style = \"Percent\"ws.Cells(3, 17).NumberFormat = \"0.00%\"ElseIf ws.Cells(j + 1, 12).Value > Greatest_Vol ThenGreatest_Vol = ws.Cells(j + 1, 12).Valuews.Cells(4, 17).Value = Greatest_Volws.Cells(4, 16).Value = ws.Cells(j + 1, 9).ValueElseEnd IfNext jws.Columns(\"A:Q\").AutoFitNext wsEnd Sub"
   ]
  }
 ],
 "metadata": {
  "kernelspec": {
   "display_name": "Python 3 (ipykernel)",
   "language": "python",
   "name": "python3"
  },
  "language_info": {
   "codemirror_mode": {
    "name": "ipython",
    "version": 3
   },
   "file_extension": ".py",
   "mimetype": "text/x-python",
   "name": "python",
   "nbconvert_exporter": "python",
   "pygments_lexer": "ipython3",
   "version": "3.10.13"
  }
 },
 "nbformat": 4,
 "nbformat_minor": 5
}
