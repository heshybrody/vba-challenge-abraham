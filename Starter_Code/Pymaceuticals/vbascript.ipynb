{
 "cells": [
  {
   "cell_type": "code",
   "execution_count": null,
   "id": "cc8491d2",
   "metadata": {},
   "outputs": [],
   "source": [
    "Sub stocks()For Each ws In Worksheetsws.Cells(1, 9).Value = \"Ticker\"ws.Cells(1, 10).Value = \"Total Stock Volume\"Dim Summary_Table_Row As IntegerSummary_Table_Row = 2LastRow = ws.Cells(Rows.Count, 1).End(xlUp).RowTotal = 0For i = 2 To LastRowIf ws.Cells(i + 1, 1).Value <> ws.Cells(i, 1).Value Then'TickerDim Ticker As StringTicker = ws.Cells(i, 1).Valuews.Range(\"I\" & Summary_Table_Row).Value = Ticker'Total Stock VolumeTotal = Total + ws.Range(\"G\" & i).Valuews.Range(\"J\" & Summary_Table_Row).Value = TotalTotal = 0Summary_Table_Row = Summary_Table_Row + 1ElseTotal = Total + ws.Range(\"G\" & i).ValueEnd IfNext iws.Columns(\"A:Q\").AutoFitNext wsEnd Sub"
   ]
  }
 ],
 "metadata": {
  "kernelspec": {
   "display_name": "Python 3 (ipykernel)",
   "language": "python",
   "name": "python3"
  },
  "language_info": {
   "codemirror_mode": {
    "name": "ipython",
    "version": 3
   },
   "file_extension": ".py",
   "mimetype": "text/x-python",
   "name": "python",
   "nbconvert_exporter": "python",
   "pygments_lexer": "ipython3",
   "version": "3.10.13"
  }
 },
 "nbformat": 4,
 "nbformat_minor": 5
}
